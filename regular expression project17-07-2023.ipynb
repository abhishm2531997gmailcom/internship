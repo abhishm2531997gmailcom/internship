{
 "cells": [
  {
   "cell_type": "markdown",
   "id": "1d3724ba",
   "metadata": {},
   "source": [
    "answer-1"
   ]
  },
  {
   "cell_type": "code",
   "execution_count": 1,
   "id": "b7965b85",
   "metadata": {},
   "outputs": [],
   "source": [
    "import re\n",
    "\n",
    "def check_string_characters(string):\n",
    "    pattern = r'^[a-zA-Z0-9]+$'\n",
    "    return re.match(pattern, string) is not None"
   ]
  },
  {
   "cell_type": "code",
   "execution_count": 2,
   "id": "828562fd",
   "metadata": {},
   "outputs": [],
   "source": [
    "string1 = \"Hello123\"\n",
    "string2 = \"Hello_123\""
   ]
  },
  {
   "cell_type": "code",
   "execution_count": 3,
   "id": "78e2fa30",
   "metadata": {},
   "outputs": [
    {
     "name": "stdout",
     "output_type": "stream",
     "text": [
      "True\n"
     ]
    }
   ],
   "source": [
    "print(check_string_characters(string1))"
   ]
  },
  {
   "cell_type": "code",
   "execution_count": 4,
   "id": "f5cbf390",
   "metadata": {},
   "outputs": [
    {
     "name": "stdout",
     "output_type": "stream",
     "text": [
      "False\n"
     ]
    }
   ],
   "source": [
    "print(check_string_characters(string2))"
   ]
  },
  {
   "cell_type": "markdown",
   "id": "05876df6",
   "metadata": {},
   "source": [
    "answer-2"
   ]
  },
  {
   "cell_type": "code",
   "execution_count": 5,
   "id": "0b1de1ed",
   "metadata": {},
   "outputs": [],
   "source": [
    "import re\n",
    "\n",
    "def match_string(string):\n",
    "    pattern = r'^ab*$'\n",
    "    return re.match(pattern, string) is not None"
   ]
  },
  {
   "cell_type": "code",
   "execution_count": 6,
   "id": "1ab43f96",
   "metadata": {},
   "outputs": [],
   "source": [
    "string1 = \"ab\"\n",
    "string2 = \"abb\"\n",
    "string3 = \"ac\"\n",
    "string4 = \"a\""
   ]
  },
  {
   "cell_type": "code",
   "execution_count": 7,
   "id": "aa8c6807",
   "metadata": {},
   "outputs": [
    {
     "name": "stdout",
     "output_type": "stream",
     "text": [
      "True\n",
      "True\n",
      "False\n",
      "True\n"
     ]
    }
   ],
   "source": [
    "print(match_string(string1))\n",
    "print(match_string(string2))\n",
    "print(match_string(string3))\n",
    "print(match_string(string4))"
   ]
  },
  {
   "cell_type": "markdown",
   "id": "f8070b03",
   "metadata": {},
   "source": [
    "answer-3"
   ]
  },
  {
   "cell_type": "code",
   "execution_count": 8,
   "id": "1d729b29",
   "metadata": {},
   "outputs": [],
   "source": [
    "import re\n",
    "\n",
    "def match_string(string):\n",
    "    pattern = r'^ab+$'\n",
    "    return re.match(pattern, string) is not None"
   ]
  },
  {
   "cell_type": "code",
   "execution_count": 9,
   "id": "f3b830f7",
   "metadata": {},
   "outputs": [],
   "source": [
    "string1 = \"ab\"\n",
    "string2 = \"abb\"\n",
    "string3 = \"ac\""
   ]
  },
  {
   "cell_type": "code",
   "execution_count": 10,
   "id": "e87f4a43",
   "metadata": {},
   "outputs": [
    {
     "name": "stdout",
     "output_type": "stream",
     "text": [
      "True\n",
      "True\n",
      "False\n"
     ]
    }
   ],
   "source": [
    "print(match_string(string1))\n",
    "print(match_string(string2))\n",
    "print(match_string(string3))"
   ]
  },
  {
   "cell_type": "markdown",
   "id": "7aca22e1",
   "metadata": {},
   "source": [
    "answer-4"
   ]
  },
  {
   "cell_type": "code",
   "execution_count": 11,
   "id": "38aee74f",
   "metadata": {},
   "outputs": [],
   "source": [
    "import re\n",
    "\n",
    "def match_string(string):\n",
    "    pattern = r'^ab?$'\n",
    "    return re.match(pattern, string) is not None"
   ]
  },
  {
   "cell_type": "code",
   "execution_count": 14,
   "id": "bd76abff",
   "metadata": {},
   "outputs": [],
   "source": [
    "string1 = \"a\"\n",
    "string2 = \"ab\"\n",
    "string3 = \"abb\"\n",
    "string4 = \"ac\""
   ]
  },
  {
   "cell_type": "code",
   "execution_count": 16,
   "id": "02661d7a",
   "metadata": {},
   "outputs": [
    {
     "name": "stdout",
     "output_type": "stream",
     "text": [
      "True\n",
      "True\n",
      "False\n",
      "False\n"
     ]
    }
   ],
   "source": [
    "print(match_string(string1))\n",
    "print(match_string(string2))\n",
    "print(match_string(string3))\n",
    "print(match_string(string4))"
   ]
  },
  {
   "cell_type": "markdown",
   "id": "57085c07",
   "metadata": {},
   "source": [
    "answer-5"
   ]
  },
  {
   "cell_type": "code",
   "execution_count": 17,
   "id": "730b536f",
   "metadata": {},
   "outputs": [],
   "source": [
    "import re\n",
    "\n",
    "def match_string(string):\n",
    "    pattern = r'^abb$'\n",
    "    return re.match(pattern, string) is not None"
   ]
  },
  {
   "cell_type": "code",
   "execution_count": 18,
   "id": "f4d1a284",
   "metadata": {},
   "outputs": [],
   "source": [
    "string1 = \"abb\"\n",
    "string2 = \"aabbb\"\n",
    "string3 = \"abbb\"\n",
    "string4 = \"abc\""
   ]
  },
  {
   "cell_type": "code",
   "execution_count": 19,
   "id": "b8e95512",
   "metadata": {},
   "outputs": [
    {
     "name": "stdout",
     "output_type": "stream",
     "text": [
      "True\n",
      "False\n",
      "False\n",
      "False\n"
     ]
    }
   ],
   "source": [
    "print(match_string(string1))\n",
    "print(match_string(string2))\n",
    "print(match_string(string3))\n",
    "print(match_string(string4))"
   ]
  },
  {
   "cell_type": "markdown",
   "id": "f19610a6",
   "metadata": {},
   "source": [
    "answer-6"
   ]
  },
  {
   "cell_type": "code",
   "execution_count": 20,
   "id": "e3c9cff4",
   "metadata": {},
   "outputs": [],
   "source": [
    "import re\n",
    "\n",
    "def split_uppercase(string):\n",
    "    pattern = r'(?=[A-Z])'\n",
    "    return re.split(pattern, string)"
   ]
  },
  {
   "cell_type": "code",
   "execution_count": 21,
   "id": "e056b453",
   "metadata": {},
   "outputs": [
    {
     "name": "stdout",
     "output_type": "stream",
     "text": [
      "['', 'My', 'Name', 'Is', 'Basudev', 'Tripathy']\n"
     ]
    }
   ],
   "source": [
    "string =\"MyNameIsBasudevTripathy\"\n",
    "result = split_uppercase(string)\n",
    "print(result) "
   ]
  },
  {
   "cell_type": "markdown",
   "id": "3806500c",
   "metadata": {},
   "source": [
    "answer-7"
   ]
  },
  {
   "cell_type": "code",
   "execution_count": 22,
   "id": "e66cad2a",
   "metadata": {},
   "outputs": [],
   "source": [
    "import re\n",
    "\n",
    "def match_string(string):\n",
    "    pattern = r'^ab{2,3}$'\n",
    "    return re.match(pattern, string) is not None"
   ]
  },
  {
   "cell_type": "code",
   "execution_count": 23,
   "id": "0ea289d1",
   "metadata": {},
   "outputs": [],
   "source": [
    "string1 = \"abb\"\n",
    "string2 = \"abbb\"\n",
    "string3 = \"abbbb\"\n",
    "string4 = \"ab\""
   ]
  },
  {
   "cell_type": "code",
   "execution_count": 24,
   "id": "f9ea9f3e",
   "metadata": {},
   "outputs": [
    {
     "name": "stdout",
     "output_type": "stream",
     "text": [
      "True\n",
      "True\n",
      "False\n",
      "False\n"
     ]
    }
   ],
   "source": [
    "print(match_string(string1))\n",
    "print(match_string(string2))\n",
    "print(match_string(string3))\n",
    "print(match_string(string4))"
   ]
  },
  {
   "cell_type": "code",
   "execution_count": 25,
   "id": "615b61c3",
   "metadata": {},
   "outputs": [],
   "source": [
    "import re\n",
    "\n",
    "def find_sequences(string):\n",
    "    pattern = r'[a-z]+(?:_[a-z]+)+'\n",
    "    return re.findall(pattern, string)"
   ]
  },
  {
   "cell_type": "code",
   "execution_count": 27,
   "id": "9db43f5e",
   "metadata": {},
   "outputs": [
    {
     "name": "stdout",
     "output_type": "stream",
     "text": [
      "['my_name_is_abhinav', 'i_want_to_be_a_dataanalyst']\n"
     ]
    }
   ],
   "source": [
    "string = \"my_name_is_abhinav and i_want_to_be_a_dataanalyst\"\n",
    "sequences = find_sequences(string)\n",
    "print(sequences)"
   ]
  },
  {
   "cell_type": "markdown",
   "id": "c55becc7",
   "metadata": {},
   "source": [
    "answer-9"
   ]
  },
  {
   "cell_type": "code",
   "execution_count": 28,
   "id": "bfb0d835",
   "metadata": {},
   "outputs": [],
   "source": [
    "import re\n",
    "\n",
    "def match_string(string):\n",
    "    pattern = r'^a.*b$'\n",
    "    return re.match(pattern, string) is not None"
   ]
  },
  {
   "cell_type": "code",
   "execution_count": 29,
   "id": "a976dcf4",
   "metadata": {},
   "outputs": [],
   "source": [
    "string1 = \"aabcdb\"\n",
    "string2 = \"axyzb\"\n",
    "string3 = \"abcde\""
   ]
  },
  {
   "cell_type": "code",
   "execution_count": 30,
   "id": "7fe4cd17",
   "metadata": {},
   "outputs": [
    {
     "name": "stdout",
     "output_type": "stream",
     "text": [
      "True\n",
      "True\n",
      "False\n"
     ]
    }
   ],
   "source": [
    "print(match_string(string1))\n",
    "print(match_string(string2))\n",
    "print(match_string(string3))"
   ]
  },
  {
   "cell_type": "markdown",
   "id": "0565d73c",
   "metadata": {},
   "source": [
    "answer-10"
   ]
  },
  {
   "cell_type": "code",
   "execution_count": 31,
   "id": "75169a18",
   "metadata": {},
   "outputs": [],
   "source": [
    "import re\n",
    "\n",
    "def match_word_at_beginning(word, string):\n",
    "    pattern = r'^' + word\n",
    "    return re.match(pattern, string) is not None"
   ]
  },
  {
   "cell_type": "code",
   "execution_count": 32,
   "id": "9170a5fd",
   "metadata": {},
   "outputs": [],
   "source": [
    "word1 = \"ram\"\n",
    "word2 = \"shyam\"\n",
    "string1 = \"ram dataanalyst\"\n",
    "string2 = \"shyam doctor\""
   ]
  },
  {
   "cell_type": "code",
   "execution_count": 33,
   "id": "bab3b67c",
   "metadata": {},
   "outputs": [
    {
     "name": "stdout",
     "output_type": "stream",
     "text": [
      "True\n",
      "False\n",
      "False\n",
      "True\n"
     ]
    }
   ],
   "source": [
    "print(match_word_at_beginning(word1, string1))\n",
    "print(match_word_at_beginning(word1, string2))\n",
    "print(match_word_at_beginning(word2, string1))\n",
    "print(match_word_at_beginning(word2, string2)) "
   ]
  },
  {
   "cell_type": "markdown",
   "id": "60384f57",
   "metadata": {},
   "source": [
    "answer-12"
   ]
  },
  {
   "cell_type": "code",
   "execution_count": 34,
   "id": "3de75593",
   "metadata": {},
   "outputs": [],
   "source": [
    "import re\n",
    "\n",
    "def match_word_at_beginning(word, string):\n",
    "    pattern = r'^' + word\n",
    "    return re.match(pattern, string) is not None\n",
    "\n",
    "word1 = \"ram\"\n",
    "word2 = \"shyam\"\n",
    "string1 = \"ram dataanalyst\"\n",
    "string2 = \"shyam doctor\""
   ]
  },
  {
   "cell_type": "code",
   "execution_count": 35,
   "id": "5ddb33e4",
   "metadata": {},
   "outputs": [
    {
     "name": "stdout",
     "output_type": "stream",
     "text": [
      "True\n",
      "False\n",
      "False\n",
      "True\n"
     ]
    }
   ],
   "source": [
    "print(match_word_at_beginning(word1, string1))\n",
    "print(match_word_at_beginning(word1, string2))\n",
    "print(match_word_at_beginning(word2, string1))\n",
    "print(match_word_at_beginning(word2, string2))"
   ]
  },
  {
   "cell_type": "markdown",
   "id": "0ab05c02",
   "metadata": {},
   "source": [
    "answer-19"
   ]
  },
  {
   "cell_type": "code",
   "execution_count": 36,
   "id": "6f41f067",
   "metadata": {},
   "outputs": [],
   "source": [
    "def convert_date_format(date):\n",
    "    parts = date.split(\"-\")\n",
    "    if len(parts) == 3:\n",
    "        year, month, day = parts\n",
    "        return f\"{day}-{month}-{year}\"\n",
    "    else:\n",
    "        return None"
   ]
  },
  {
   "cell_type": "code",
   "execution_count": 37,
   "id": "9a662edd",
   "metadata": {},
   "outputs": [],
   "source": [
    "date1 = \"2023-07-16\"\n",
    "date2 = \"2023-07-17\""
   ]
  },
  {
   "cell_type": "code",
   "execution_count": 38,
   "id": "26b3d87f",
   "metadata": {},
   "outputs": [],
   "source": [
    "converted_date1 = convert_date_format(date1)\n",
    "converted_date2 = convert_date_format(date2)"
   ]
  },
  {
   "cell_type": "code",
   "execution_count": 39,
   "id": "32b5b2a0",
   "metadata": {},
   "outputs": [
    {
     "name": "stdout",
     "output_type": "stream",
     "text": [
      "16-07-2023\n",
      "17-07-2023\n"
     ]
    }
   ],
   "source": [
    "print(converted_date1)\n",
    "print(converted_date2)"
   ]
  },
  {
   "cell_type": "markdown",
   "id": "79fc3005",
   "metadata": {},
   "source": [
    "answer-20"
   ]
  },
  {
   "cell_type": "code",
   "execution_count": 40,
   "id": "22ec371e",
   "metadata": {},
   "outputs": [],
   "source": [
    "import re\n",
    "\n",
    "def find_words_starting_with_a_or_e(string):\n",
    "    pattern = r'\\b[ae]\\w+\\b'\n",
    "    words = re.findall(pattern, string, re.IGNORECASE)\n",
    "    return words"
   ]
  },
  {
   "cell_type": "code",
   "execution_count": 41,
   "id": "2ded9b79",
   "metadata": {},
   "outputs": [
    {
     "name": "stdout",
     "output_type": "stream",
     "text": [
      "['An', 'elephant', 'eats', 'an', 'apple', 'and']\n"
     ]
    }
   ],
   "source": [
    "string = \"An elephant eats an apple and gone to the jungle.\"\n",
    "words = find_words_starting_with_a_or_e(string)\n",
    "print(words)"
   ]
  },
  {
   "cell_type": "code",
   "execution_count": null,
   "id": "db180879",
   "metadata": {},
   "outputs": [],
   "source": []
  }
 ],
 "metadata": {
  "kernelspec": {
   "display_name": "Python 3 (ipykernel)",
   "language": "python",
   "name": "python3"
  },
  "language_info": {
   "codemirror_mode": {
    "name": "ipython",
    "version": 3
   },
   "file_extension": ".py",
   "mimetype": "text/x-python",
   "name": "python",
   "nbconvert_exporter": "python",
   "pygments_lexer": "ipython3",
   "version": "3.9.13"
  }
 },
 "nbformat": 4,
 "nbformat_minor": 5
}
